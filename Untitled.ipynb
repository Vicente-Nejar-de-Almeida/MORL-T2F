{
 "cells": [
  {
   "cell_type": "code",
   "execution_count": 1,
   "id": "9f435133-d6ab-4a28-bd41-2e5b841c9ff2",
   "metadata": {},
   "outputs": [],
   "source": [
    "from morl.successor_features.tabular_sf import SF\n",
    "from morl.successor_features.gpi import GPI\n",
    "from morl.successor_features.ols import OLS"
   ]
  },
  {
   "cell_type": "code",
   "execution_count": null,
   "id": "e075c97b-ddeb-418d-8392-089df37ffda8",
   "metadata": {},
   "outputs": [],
   "source": []
  }
 ],
 "metadata": {
  "kernelspec": {
   "display_name": "Python 3 (ipykernel)",
   "language": "python",
   "name": "python3"
  },
  "language_info": {
   "codemirror_mode": {
    "name": "ipython",
    "version": 3
   },
   "file_extension": ".py",
   "mimetype": "text/x-python",
   "name": "python",
   "nbconvert_exporter": "python",
   "pygments_lexer": "ipython3",
   "version": "3.9.18"
  }
 },
 "nbformat": 4,
 "nbformat_minor": 5
}
