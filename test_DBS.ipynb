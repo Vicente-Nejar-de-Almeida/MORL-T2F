{
 "cells": [
  {
   "cell_type": "code",
   "execution_count": 14,
   "id": "876b68f4-8c9c-4f9b-9ea0-fb347492cc2d",
   "metadata": {},
   "outputs": [],
   "source": [
    "import random\n",
    "import numpy as np\n",
    "import pandas as pd\n",
    "from t2f.extraction.extractor import feature_extraction\n",
    "from t2f.utils.importance_old import feature_selection\n",
    "from t2f.model.clustering import ClusterWrapper\n",
    "from t2f.data.dataset import read_ucr_datasets\n",
    "from t2f.selection.selection import cleaning\n",
    "from sklearn.metrics import davies_bouldin_score"
   ]
  },
  {
   "cell_type": "code",
   "execution_count": 2,
   "id": "9f982e2c-da88-4873-af03-7c22c3e05d2e",
   "metadata": {},
   "outputs": [],
   "source": [
    "def normalized_DBS(df_feat_all, y_pred, upper_limit=1000):\n",
    "    dbs = davies_bouldin_score(df_feat_all, y_pred)\n",
    "    print('dbs:', dbs)\n",
    "    if dbs > upper_limit:\n",
    "        dbs = upper_limit\n",
    "    score = ((dbs - upper_limit)/(0-upper_limit))\n",
    "    print('DBS Score: ' + str(score))\n",
    "    return score"
   ]
  },
  {
   "cell_type": "markdown",
   "id": "65585ca9-e23c-4f6a-9d15-0b87d97e0539",
   "metadata": {},
   "source": [
    "### BasicMotions dataset"
   ]
  },
  {
   "cell_type": "code",
   "execution_count": 7,
   "id": "1fc6a744-0aa5-4cb7-860e-4c299ee1980c",
   "metadata": {},
   "outputs": [
    {
     "name": "stdout",
     "output_type": "stream",
     "text": [
      "Read ucr datasets:  ['data/BasicMotions/BasicMotions_TRAIN.txt', 'data/BasicMotions/BasicMotions_TEST.txt']\n",
      "Dataset shape: (80, 100, 6), Num of clusters: 4\n"
     ]
    }
   ],
   "source": [
    "files=['data/BasicMotions/BasicMotions_TRAIN.txt', 'data/BasicMotions/BasicMotions_TEST.txt']\n",
    "transform_type='minmax'\n",
    "model_type='Hierarchical'\n",
    "batch_size=500\n",
    "p=4\n",
    "\n",
    "# Read original dataset\n",
    "print('Read ucr datasets: ', files)\n",
    "ts_list, y_true = read_ucr_datasets(paths=files)\n",
    "n_clusters = len(set(y_true))  # Get number of clusters to find\n",
    "\n",
    "# Create cluster model\n",
    "model = ClusterWrapper(n_clusters=n_clusters, model_type=model_type, transform_type=transform_type)\n",
    "print('Dataset shape: {}, Num of clusters: {}'.format(ts_list.shape, n_clusters))"
   ]
  },
  {
   "cell_type": "code",
   "execution_count": 8,
   "id": "b5b6e548-63f9-4c7a-aca5-abd1da7e9dad",
   "metadata": {},
   "outputs": [
    {
     "name": "stderr",
     "output_type": "stream",
     "text": [
      "Feature Extraction: 100%|██████████| 480/480 [00:16<00:00, 28.51it/s]\n"
     ]
    }
   ],
   "source": [
    "df_all_feats = feature_extraction(ts_list, batch_size, p)\n",
    "df_all_feats = cleaning(df_all_feats)"
   ]
  },
  {
   "cell_type": "code",
   "execution_count": 11,
   "id": "0479dbdf-2c99-406d-b9b9-a105cb8bb727",
   "metadata": {},
   "outputs": [
    {
     "data": {
      "text/plain": [
       "array(['standing', 'standing', 'standing', 'standing', 'standing',\n",
       "       'standing', 'standing', 'standing', 'standing', 'standing',\n",
       "       'running', 'running', 'running', 'running', 'running', 'running',\n",
       "       'running', 'running', 'running', 'running', 'walking', 'walking',\n",
       "       'walking', 'walking', 'walking', 'walking', 'walking', 'walking',\n",
       "       'walking', 'walking', 'badminton', 'badminton', 'badminton',\n",
       "       'badminton', 'badminton', 'badminton', 'badminton', 'badminton',\n",
       "       'badminton', 'badminton', 'standing', 'standing', 'standing',\n",
       "       'standing', 'standing', 'standing', 'standing', 'standing',\n",
       "       'standing', 'standing', 'running', 'running', 'running', 'running',\n",
       "       'running', 'running', 'running', 'running', 'running', 'running',\n",
       "       'walking', 'walking', 'walking', 'walking', 'walking', 'walking',\n",
       "       'walking', 'walking', 'walking', 'walking', 'badminton',\n",
       "       'badminton', 'badminton', 'badminton', 'badminton', 'badminton',\n",
       "       'badminton', 'badminton', 'badminton', 'badminton'], dtype='<U9')"
      ]
     },
     "execution_count": 11,
     "metadata": {},
     "output_type": "execute_result"
    }
   ],
   "source": [
    "y_true"
   ]
  },
  {
   "cell_type": "code",
   "execution_count": 18,
   "id": "d2e875e3-b879-4cf7-8c21-276564a8efc1",
   "metadata": {},
   "outputs": [],
   "source": [
    "def generate_random_clustering(y_true):\n",
    "    return [random.choice(list(set(y_true))) for _ in range(len(y_true))]"
   ]
  },
  {
   "cell_type": "code",
   "execution_count": 33,
   "id": "7bb54ba6-b9e9-401d-bd6a-cf48545925d1",
   "metadata": {},
   "outputs": [
    {
     "data": {
      "text/plain": [
       "1.5838634359414987"
      ]
     },
     "execution_count": 33,
     "metadata": {},
     "output_type": "execute_result"
    }
   ],
   "source": [
    "davies_bouldin_score(df_all_feats, y_true)"
   ]
  },
  {
   "cell_type": "code",
   "execution_count": 34,
   "id": "04fb09cc-7ba5-4621-937c-be229e557a76",
   "metadata": {},
   "outputs": [
    {
     "name": "stdout",
     "output_type": "stream",
     "text": [
      "Run 0, Score: 12.237839780553248\n",
      "Run 1, Score: 12.948745818312767\n",
      "Run 2, Score: 15.00987677152331\n",
      "Run 3, Score: 15.183736389390841\n",
      "Run 4, Score: 11.041594190952416\n",
      "Run 5, Score: 18.333238847791407\n",
      "Run 6, Score: 9.851369947311088\n",
      "Run 7, Score: 13.715977348430304\n",
      "Run 8, Score: 9.993833338780002\n",
      "Run 9, Score: 16.96738899613105\n"
     ]
    }
   ],
   "source": [
    "for run in range(10):\n",
    "    print(f'Run {run}, Score: {davies_bouldin_score(df_all_feats, generate_random_clustering(y_true))}')"
   ]
  },
  {
   "cell_type": "code",
   "execution_count": 44,
   "id": "3eb8bf91-9cdb-47a0-87de-a18ccaa030d2",
   "metadata": {},
   "outputs": [
    {
     "data": {
      "text/plain": [
       "1.0177786554000607"
      ]
     },
     "execution_count": 44,
     "metadata": {},
     "output_type": "execute_result"
    }
   ],
   "source": [
    "\"\"\"\n",
    "Strange result!!!\n",
    "['standing', 'running', 'badminton'] + ['walking', 'walking', ..., 'walking'] has better score than y_true\n",
    "\"\"\"\n",
    "davies_bouldin_score(df_all_feats, ['standing', 'running', 'badminton'] + ['walking' for _ in range(len(y_true)-3)])"
   ]
  },
  {
   "cell_type": "markdown",
   "id": "0248cbc9-c349-4d7c-b1f1-33dbdf712226",
   "metadata": {},
   "source": [
    "### Random dataset"
   ]
  },
  {
   "cell_type": "code",
   "execution_count": 45,
   "id": "93cc3bb2-644e-4fa8-8dc9-9468e5e7b07a",
   "metadata": {},
   "outputs": [
    {
     "name": "stderr",
     "output_type": "stream",
     "text": [
      "Feature Extraction: 100%|██████████| 30/30 [00:01<00:00, 27.94it/s]\n"
     ]
    },
    {
     "name": "stdout",
     "output_type": "stream",
     "text": [
      "(10,)\n"
     ]
    }
   ],
   "source": [
    "# 10 multivariate time series with 100 timestamps and 3 signals each\n",
    "arr = np.random.randn(10, 100, 3)\n",
    "arr[5:] = arr[5:] * 100\n",
    "\n",
    "labels = {}  # unsupervised mode\n",
    "# labels = {0: 'a', 1: 'a', 5: 'b', 6: 'b'}  # semi-supervised mode\n",
    "n_clusters = 2  # Number of clusters\n",
    "\n",
    "transform_type = 'std'  # preprocessing step\n",
    "model_type = 'KMeans'  # clustering model\n",
    "\n",
    "# Feature extraction\n",
    "df_feats = feature_extraction(arr, batch_size=100, p=1)\n",
    "\n",
    "# Feature selection\n",
    "context = {'model_type': model_type, 'transform_type': transform_type}\n",
    "top_feats = feature_selection(df_feats, labels=labels, context=context)\n",
    "df_feats = df_feats[top_feats]\n",
    "\n",
    "# Clustering\n",
    "model = ClusterWrapper(n_clusters=n_clusters, model_type=model_type, transform_type=transform_type)\n",
    "y_pred = model.fit_predict(df_feats)\n",
    "print(y_pred.shape)"
   ]
  },
  {
   "cell_type": "code",
   "execution_count": 48,
   "id": "4afa8edc-8f6e-486b-96fd-fb9ed5562a38",
   "metadata": {},
   "outputs": [
    {
     "data": {
      "text/plain": [
       "array([0, 0, 0, 0, 0, 1, 0, 1, 1, 0], dtype=int32)"
      ]
     },
     "execution_count": 48,
     "metadata": {},
     "output_type": "execute_result"
    }
   ],
   "source": [
    "y_pred"
   ]
  },
  {
   "cell_type": "code",
   "execution_count": 47,
   "id": "e34b177c-87a8-4433-b5e0-c6003b3bd096",
   "metadata": {},
   "outputs": [
    {
     "data": {
      "text/plain": [
       "0.8327696039617392"
      ]
     },
     "execution_count": 47,
     "metadata": {},
     "output_type": "execute_result"
    }
   ],
   "source": [
    "davies_bouldin_score(df_feats, y_pred)"
   ]
  },
  {
   "cell_type": "code",
   "execution_count": 50,
   "id": "35a8d5c2-4616-4738-a137-286068754aac",
   "metadata": {},
   "outputs": [
    {
     "name": "stdout",
     "output_type": "stream",
     "text": [
      "Run 0, Score: 3.7585739114298526\n",
      "Run 1, Score: 1.317943105557214\n",
      "Run 2, Score: 1.764421594459349\n",
      "Run 3, Score: 1.4301841744963895\n",
      "Run 4, Score: 3.198784541249933\n",
      "Run 5, Score: 3.387657952044123\n",
      "Run 6, Score: 3.163525846535205\n",
      "Run 7, Score: 4.44138652360758\n",
      "Run 8, Score: 1.7006740806280842\n",
      "Run 9, Score: 1.4749183171406246\n"
     ]
    }
   ],
   "source": [
    "for run in range(10):\n",
    "    print(f'Run {run}, Score: {davies_bouldin_score(df_feats, [random.choice([0, 1]) for _ in range(len(y_pred))])}')"
   ]
  },
  {
   "cell_type": "code",
   "execution_count": 53,
   "id": "2f97b9da-9f23-4c60-ad46-b58bcbc529a6",
   "metadata": {},
   "outputs": [
    {
     "data": {
      "text/plain": [
       "1.2962572569037427"
      ]
     },
     "execution_count": 53,
     "metadata": {},
     "output_type": "execute_result"
    }
   ],
   "source": [
    "davies_bouldin_score(df_feats, [0] + [1 for _ in range(len(y_pred)-1)])"
   ]
  },
  {
   "cell_type": "code",
   "execution_count": null,
   "id": "08547a33-c74a-4efb-b2ec-f1a8858d42db",
   "metadata": {},
   "outputs": [],
   "source": []
  }
 ],
 "metadata": {
  "kernelspec": {
   "display_name": "Python 3 (ipykernel)",
   "language": "python",
   "name": "python3"
  },
  "language_info": {
   "codemirror_mode": {
    "name": "ipython",
    "version": 3
   },
   "file_extension": ".py",
   "mimetype": "text/x-python",
   "name": "python",
   "nbconvert_exporter": "python",
   "pygments_lexer": "ipython3",
   "version": "3.9.18"
  }
 },
 "nbformat": 4,
 "nbformat_minor": 5
}
